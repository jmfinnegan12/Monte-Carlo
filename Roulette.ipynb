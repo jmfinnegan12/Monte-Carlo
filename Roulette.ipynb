{
 "cells": [
  {
   "cell_type": "markdown",
   "metadata": {},
   "source": [
    "# Monte Carlo Simulation - Roulette\n",
    "\n",
    "### Jim Finnegan"
   ]
  },
  {
   "cell_type": "markdown",
   "metadata": {},
   "source": [
    "_______________________________________"
   ]
  },
  {
   "cell_type": "markdown",
   "metadata": {},
   "source": [
    "## Setup"
   ]
  },
  {
   "cell_type": "code",
   "execution_count": 1,
   "metadata": {},
   "outputs": [],
   "source": [
    "import numpy as np\n",
    "import matplotlib.pyplot as plt\n",
    "import pandas as pd"
   ]
  },
  {
   "cell_type": "code",
   "execution_count": 2,
   "metadata": {},
   "outputs": [],
   "source": [
    "class Spin:\n",
    "    \n",
    "    NUMBERS = ['0', '00', '1', '2', '3', '4', '5', '6', '7', '8', '9', '10', '11', '12', '13', '14', '15', '16', \n",
    "               '17', '18', '19', '20', '21', '22', '23', '24', '25', '26', '27', '28', '29', '30', '31', '32', \n",
    "               '33', '34', '35', '36']\n",
    "    COLORS ={'1': 'red', \n",
    "             '2': 'black', \n",
    "             '3': 'red', \n",
    "             '4': 'black', \n",
    "             '5': 'red', \n",
    "             '6': 'black', \n",
    "             '7': 'red', \n",
    "             '8': 'black', \n",
    "             '9': 'red', \n",
    "             '10': 'black', \n",
    "             '11': 'black', \n",
    "             '12': 'red', \n",
    "             '13': 'black', \n",
    "             '14': 'red', \n",
    "             '15': 'black',\n",
    "             '16': 'red', \n",
    "             '17': 'black', \n",
    "             '18': 'red', \n",
    "             '19': 'red', \n",
    "             '20': 'black', \n",
    "             '21': 'red', \n",
    "             '22': 'black', \n",
    "             '23': 'red', \n",
    "             '24': 'black',\n",
    "             '25': 'red',\n",
    "             '26': 'black', \n",
    "             '27': 'red',\n",
    "             '28': 'black',\n",
    "             '29': 'black',\n",
    "             '30': 'red',\n",
    "             '31': 'black',\n",
    "             '32': 'red',\n",
    "             '33': 'black',\n",
    "             '34': 'red',\n",
    "             '35': 'black',\n",
    "             '36': 'red',\n",
    "             '0': 'green',\n",
    "             '00': 'green'}\n",
    "    \n",
    "    def __init__(self):\n",
    "        self.color = ''\n",
    "        self.number = ''\n",
    "        self.spin()\n",
    "    \n",
    "    def __repr__(self):\n",
    "        return self.number + ' ' + self.color\n",
    "    \n",
    "    def __str__(self):\n",
    "        return self.number + ' ' + self.color\n",
    "    \n",
    "    \n",
    "    def spin(self):\n",
    "        i = np.random.choice(Spin.NUMBERS)\n",
    "        self.number = i\n",
    "        self.color = Spin.COLORS[i]"
   ]
  },
  {
   "cell_type": "code",
   "execution_count": 35,
   "metadata": {},
   "outputs": [],
   "source": [
    "def color_bet(color, qty):\n",
    "    s = Spin()\n",
    "    spin_color = s.color\n",
    "    result = (s.color == color)\n",
    "\n",
    "    if result == True:\n",
    "        return qty, spin_color\n",
    "    else:\n",
    "        return -qty, spin_color"
   ]
  },
  {
   "cell_type": "code",
   "execution_count": 55,
   "metadata": {},
   "outputs": [],
   "source": [
    "def number_bet(number, qty):\n",
    "    s = Spin()\n",
    "    spin_number = s.number\n",
    "    \n",
    "    result = (spin_number == number)\n",
    "    \n",
    "    if result == True:\n",
    "        return 36*qty\n",
    "    else:\n",
    "        return -qty"
   ]
  },
  {
   "cell_type": "markdown",
   "metadata": {},
   "source": [
    "___________"
   ]
  },
  {
   "cell_type": "markdown",
   "metadata": {},
   "source": [
    "## Simulation: betting on one color\n",
    "\n",
    "### 100,000 trials: each with 100 bets of the same amount on the same color"
   ]
  },
  {
   "cell_type": "code",
   "execution_count": 36,
   "metadata": {},
   "outputs": [],
   "source": [
    "single_black_results = []\n",
    "t = 0\n",
    "\n",
    "# 100,000 trials\n",
    "while t < 100000:\n",
    "    \n",
    "    # reset for each trial\n",
    "    stack, k = 0, 0\n",
    "    \n",
    "    # 100 bets in each trial, simulate and increment\n",
    "    while k < 100:\n",
    "        result, color = color_bet('black', 1)\n",
    "        stack += result\n",
    "        k += 1\n",
    "    # append result to list and increment\n",
    "    single_black_results.append(stack)\n",
    "    t += 1"
   ]
  },
  {
   "cell_type": "code",
   "execution_count": 37,
   "metadata": {},
   "outputs": [],
   "source": [
    "results_df = pd.DataFrame(single_black_results, columns = ['Single_Black'])"
   ]
  },
  {
   "cell_type": "code",
   "execution_count": 38,
   "metadata": {},
   "outputs": [
    {
     "data": {
      "text/plain": [
       "(array([5.0000e+00, 2.0000e+01, 1.0000e+02, 3.2400e+02, 1.9220e+03,\n",
       "        3.4510e+03, 6.2900e+03, 9.9170e+03, 2.1098e+04, 1.6056e+04,\n",
       "        1.4257e+04, 1.1243e+04, 1.0134e+04, 3.0330e+03, 1.3780e+03,\n",
       "        5.4600e+02, 1.9500e+02, 2.2000e+01, 6.0000e+00, 3.0000e+00]),\n",
       " array([-48. , -43.5, -39. , -34.5, -30. , -25.5, -21. , -16.5, -12. ,\n",
       "         -7.5,  -3. ,   1.5,   6. ,  10.5,  15. ,  19.5,  24. ,  28.5,\n",
       "         33. ,  37.5,  42. ]),\n",
       " <a list of 20 Patch objects>)"
      ]
     },
     "execution_count": 38,
     "metadata": {},
     "output_type": "execute_result"
    },
    {
     "data": {
      "image/png": "[encoded data removed]",
      "text/plain": [
       "<Figure size 432x288 with 1 Axes>"
      ]
     },
     "metadata": {
      "needs_background": "light"
     },
     "output_type": "display_data"
    }
   ],
   "source": [
    "plt.hist(results_df['Single_Black'], bins = 20)"
   ]
  },
  {
   "cell_type": "code",
   "execution_count": 39,
   "metadata": {},
   "outputs": [],
   "source": [
    "# ECDF function\n",
    "def ecdf(data):  \n",
    "    x = np.sort(data)\n",
    "    y = np.arange(1, len(x)+1) / len(x)\n",
    "    \n",
    "    return x, y"
   ]
  },
  {
   "cell_type": "code",
   "execution_count": 52,
   "metadata": {},
   "outputs": [
    {
     "data": {
      "text/plain": [
       "<function matplotlib.pyplot.show(*args, **kw)>"
      ]
     },
     "execution_count": 52,
     "metadata": {},
     "output_type": "execute_result"
    },
    {
     "data": {
      "image/png": "[encoded data removed]",
      "text/plain": [
       "<Figure size 432x288 with 1 Axes>"
      ]
     },
     "metadata": {
      "needs_background": "light"
     },
     "output_type": "display_data"
    }
   ],
   "source": [
    "x_black_single, y_black_single = ecdf(results_df['Single_Black'])\n",
    "plt.plot(x_black_single, y_black_single, marker='.', linestyle='none')\n",
    "plt.xlabel('Net winnings')\n",
    "plt.ylabel('ECDF')\n",
    "plt.title('100 Single Bets on Black\\n100,000 trials')"
   ]
  },
  {
   "cell_type": "code",
   "execution_count": 47,
   "metadata": {},
   "outputs": [
    {
     "data": {
      "text/html": [
       "<div>\n",
       "<style scoped>\n",
       "    .dataframe tbody tr th:only-of-type {\n",
       "        vertical-align: middle;\n",
       "    }\n",
       "\n",
       "    .dataframe tbody tr th {\n",
       "        vertical-align: top;\n",
       "    }\n",
       "\n",
       "    .dataframe thead th {\n",
       "        text-align: right;\n",
       "    }\n",
       "</style>\n",
       "<table border=\"1\" class=\"dataframe\">\n",
       "  <thead>\n",
       "    <tr style=\"text-align: right;\">\n",
       "      <th></th>\n",
       "      <th>Single_Black</th>\n",
       "      <th>Gamblers_Fallacy_Black</th>\n",
       "    </tr>\n",
       "  </thead>\n",
       "  <tbody>\n",
       "    <tr>\n",
       "      <th>count</th>\n",
       "      <td>100000.000000</td>\n",
       "      <td>100000.000000</td>\n",
       "    </tr>\n",
       "    <tr>\n",
       "      <th>mean</th>\n",
       "      <td>-5.275100</td>\n",
       "      <td>-5.952510</td>\n",
       "    </tr>\n",
       "    <tr>\n",
       "      <th>std</th>\n",
       "      <td>10.008486</td>\n",
       "      <td>11.966168</td>\n",
       "    </tr>\n",
       "    <tr>\n",
       "      <th>min</th>\n",
       "      <td>-48.000000</td>\n",
       "      <td>-80.000000</td>\n",
       "    </tr>\n",
       "    <tr>\n",
       "      <th>25%</th>\n",
       "      <td>-12.000000</td>\n",
       "      <td>-13.000000</td>\n",
       "    </tr>\n",
       "    <tr>\n",
       "      <th>50%</th>\n",
       "      <td>-6.000000</td>\n",
       "      <td>-5.000000</td>\n",
       "    </tr>\n",
       "    <tr>\n",
       "      <th>75%</th>\n",
       "      <td>2.000000</td>\n",
       "      <td>2.000000</td>\n",
       "    </tr>\n",
       "    <tr>\n",
       "      <th>max</th>\n",
       "      <td>42.000000</td>\n",
       "      <td>38.000000</td>\n",
       "    </tr>\n",
       "  </tbody>\n",
       "</table>\n",
       "</div>"
      ],
      "text/plain": [
       "        Single_Black  Gamblers_Fallacy_Black\n",
       "count  100000.000000           100000.000000\n",
       "mean       -5.275100               -5.952510\n",
       "std        10.008486               11.966168\n",
       "min       -48.000000              -80.000000\n",
       "25%       -12.000000              -13.000000\n",
       "50%        -6.000000               -5.000000\n",
       "75%         2.000000                2.000000\n",
       "max        42.000000               38.000000"
      ]
     },
     "execution_count": 47,
     "metadata": {},
     "output_type": "execute_result"
    }
   ],
   "source": [
    "# summary statistics\n",
    "results_df.describe()"
   ]
  },
  {
   "cell_type": "markdown",
   "metadata": {},
   "source": [
    "### Test of Gambler's Fallacy\n",
    "\n",
    "#### if red shows for at least 7 out of 10 spins, double bet on black"
   ]
  },
  {
   "cell_type": "code",
   "execution_count": 45,
   "metadata": {},
   "outputs": [],
   "source": [
    "gamblers_fallacy_results = []\n",
    "t = 0\n",
    "\n",
    "#100,000 trials\n",
    "while t < 100000:\n",
    "    \n",
    "    # reset for each trial\n",
    "    colors, stack, k = [], 0, 0\n",
    "    \n",
    "    # 100 bets for each trial, simulate and increment\n",
    "    while k < 100:\n",
    "                    \n",
    "        # check for 7 out of 10 reds, double bet if more than 7 of the previous spins have been red\n",
    "        if k >= 10:\n",
    "            if sum(colors[k-10:k]) >= 7:\n",
    "                result, color = color_bet('black', 2)\n",
    "            else:\n",
    "                result, color = color_bet('black', 1)\n",
    "        \n",
    "        # bet 1 unit for the first 10 spins\n",
    "        else:\n",
    "            result, color = color_bet('black', 1)\n",
    "        \n",
    "        \n",
    "        # check for red spin and track\n",
    "        if color == 'red':\n",
    "            colors.append(1)\n",
    "        else:\n",
    "            colors.append(0)\n",
    "\n",
    "        stack += result\n",
    "        k += 1\n",
    "    \n",
    "    # append result to list and increment\n",
    "    gamblers_fallacy_results.append(stack)\n",
    "    t += 1    "
   ]
  },
  {
   "cell_type": "code",
   "execution_count": 46,
   "metadata": {},
   "outputs": [],
   "source": [
    "results_df['Gamblers_Fallacy_Black'] = pd.DataFrame(gamblers_fallacy_results)"
   ]
  },
  {
   "cell_type": "code",
   "execution_count": 49,
   "metadata": {},
   "outputs": [
    {
     "data": {
      "text/plain": [
       "(array([1.0000e+00, 4.0000e+00, 8.0000e+00, 2.0000e+01, 7.1000e+01,\n",
       "        2.1900e+02, 5.6100e+02, 1.3580e+03, 3.0240e+03, 4.9360e+03,\n",
       "        9.8490e+03, 1.5596e+04, 2.0022e+04, 1.9963e+04, 1.4336e+04,\n",
       "        7.0140e+03, 2.4000e+03, 5.3800e+02, 7.5000e+01, 5.0000e+00]),\n",
       " array([-80. , -74.1, -68.2, -62.3, -56.4, -50.5, -44.6, -38.7, -32.8,\n",
       "        -26.9, -21. , -15.1,  -9.2,  -3.3,   2.6,   8.5,  14.4,  20.3,\n",
       "         26.2,  32.1,  38. ]),\n",
       " <a list of 20 Patch objects>)"
      ]
     },
     "execution_count": 49,
     "metadata": {},
     "output_type": "execute_result"
    },
    {
     "data": {
      "image/png": "[encoded data removed]",
      "text/plain": [
       "<Figure size 432x288 with 1 Axes>"
      ]
     },
     "metadata": {
      "needs_background": "light"
     },
     "output_type": "display_data"
    }
   ],
   "source": [
    "plt.hist(results_df['Gamblers_Fallacy_Black'], bins = 20)"
   ]
  },
  {
   "cell_type": "code",
   "execution_count": 51,
   "metadata": {},
   "outputs": [
    {
     "data": {
      "text/plain": [
       "<function matplotlib.pyplot.show(*args, **kw)>"
      ]
     },
     "execution_count": 51,
     "metadata": {},
     "output_type": "execute_result"
    },
    {
     "data": {
      "image/png": "[encoded data removed]",
      "text/plain": [
       "<Figure size 432x288 with 1 Axes>"
      ]
     },
     "metadata": {
      "needs_background": "light"
     },
     "output_type": "display_data"
    }
   ],
   "source": [
    "x_black_gf, y_black_gf = ecdf(results_df['Gamblers_Fallacy_Black'])\n",
    "plt.plot(x_black_gf, y_black_gf, marker='.', linestyle='none')\n",
    "plt.title('100 Bets on Black, bet doubled if 7/10 previous spins were red\\n100,000 trials')"
   ]
  },
  {
   "cell_type": "code",
   "execution_count": 54,
   "metadata": {},
   "outputs": [
    {
     "data": {
      "text/plain": [
       "Text(0.5, 1.0, 'Comparison')"
      ]
     },
     "execution_count": 54,
     "metadata": {},
     "output_type": "execute_result"
    },
    {
     "data": {
      "image/png": "[encoded data removed]",
      "text/plain": [
       "<Figure size 432x288 with 1 Axes>"
      ]
     },
     "metadata": {
      "needs_background": "light"
     },
     "output_type": "display_data"
    }
   ],
   "source": [
    "# comparison\n",
    "plt.plot(x_black_gf, y_black_gf, x_black_single, y_black_single)\n",
    "plt.xlabel('Net winnings')\n",
    "plt.ylabel('ECDF')\n",
    "plt.legend([\"Gambler's Fallacy\", \"Single Bet\"])\n",
    "plt.title('Comparison')"
   ]
  },
  {
   "cell_type": "markdown",
   "metadata": {},
   "source": [
    "_______________"
   ]
  },
  {
   "cell_type": "markdown",
   "metadata": {},
   "source": [
    "## Betting on a Number\n",
    "#### 100,000 trials, each with 100 bets on the same number"
   ]
  },
  {
   "cell_type": "code",
   "execution_count": 57,
   "metadata": {},
   "outputs": [],
   "source": [
    "single_00_results = []\n",
    "t = 0\n",
    "\n",
    "# 100,000 trials\n",
    "while t < 100000:\n",
    "    \n",
    "    # reset for each trial\n",
    "    stack, k = 0, 0\n",
    "    \n",
    "    # 100 bets in each trial, simulate and increment\n",
    "    while k < 100:\n",
    "        result = number_bet('00', 1)\n",
    "        stack += result\n",
    "        k += 1\n",
    "    # append result to list and increment\n",
    "    single_00_results.append(stack)\n",
    "    t += 1"
   ]
  },
  {
   "cell_type": "code",
   "execution_count": 59,
   "metadata": {},
   "outputs": [],
   "source": [
    "results_df['Single_00'] = pd.DataFrame(single_00_results)"
   ]
  },
  {
   "cell_type": "markdown",
   "metadata": {},
   "source": [
    "### Test Gambler's Fallacy\n",
    "#### if 00 does not show in 50 spins, double bet on 00"
   ]
  },
  {
   "cell_type": "code",
   "execution_count": 58,
   "metadata": {},
   "outputs": [],
   "source": [
    "gamblers_fallacy_results_00 = []\n",
    "t = 0\n",
    "\n",
    "#100,000 trials\n",
    "while t < 100000:\n",
    "    \n",
    "    # reset for each trial\n",
    "    nums, stack, k = [], 0, 0\n",
    "    \n",
    "    # 100 bets for each trial, simulate and increment\n",
    "    while k < 100:\n",
    "                    \n",
    "        # check for 00 in previous 50 spins, if not shown up, double bet\n",
    "        if k >= 50:\n",
    "            if sum(nums[k-50:k]) < 1:\n",
    "                result = number_bet('00', 2)\n",
    "            else:\n",
    "                result = number_bet('00', 1)\n",
    "        \n",
    "        # bet 1 unit for the first 50 spins\n",
    "        else:\n",
    "            result = number_bet('00', 1)\n",
    "        \n",
    "        \n",
    "        # check for red spin and track\n",
    "        if result > 0:\n",
    "            nums.append(1)\n",
    "        else:\n",
    "            nums.append(0)\n",
    "\n",
    "        stack += result\n",
    "        k += 1\n",
    "    \n",
    "    # append result to list and increment\n",
    "    gamblers_fallacy_results_00.append(stack)\n",
    "    t += 1  "
   ]
  },
  {
   "cell_type": "code",
   "execution_count": 60,
   "metadata": {},
   "outputs": [],
   "source": [
    "results_df['00_gf'] = pd.DataFrame(gamblers_fallacy_results_00)"
   ]
  },
  {
   "cell_type": "code",
   "execution_count": 61,
   "metadata": {},
   "outputs": [
    {
     "data": {
      "text/html": [
       "<div>\n",
       "<style scoped>\n",
       "    .dataframe tbody tr th:only-of-type {\n",
       "        vertical-align: middle;\n",
       "    }\n",
       "\n",
       "    .dataframe tbody tr th {\n",
       "        vertical-align: top;\n",
       "    }\n",
       "\n",
       "    .dataframe thead th {\n",
       "        text-align: right;\n",
       "    }\n",
       "</style>\n",
       "<table border=\"1\" class=\"dataframe\">\n",
       "  <thead>\n",
       "    <tr style=\"text-align: right;\">\n",
       "      <th></th>\n",
       "      <th>Single_Black</th>\n",
       "      <th>Gamblers_Fallacy_Black</th>\n",
       "      <th>Single_00</th>\n",
       "      <th>00_gf</th>\n",
       "    </tr>\n",
       "  </thead>\n",
       "  <tbody>\n",
       "    <tr>\n",
       "      <th>count</th>\n",
       "      <td>100000.000000</td>\n",
       "      <td>100000.000000</td>\n",
       "      <td>100000.000000</td>\n",
       "      <td>100000.000000</td>\n",
       "    </tr>\n",
       "    <tr>\n",
       "      <th>mean</th>\n",
       "      <td>-5.275100</td>\n",
       "      <td>-5.952510</td>\n",
       "      <td>-2.963800</td>\n",
       "      <td>-3.057090</td>\n",
       "    </tr>\n",
       "    <tr>\n",
       "      <th>std</th>\n",
       "      <td>10.008486</td>\n",
       "      <td>11.966168</td>\n",
       "      <td>59.268121</td>\n",
       "      <td>70.224244</td>\n",
       "    </tr>\n",
       "    <tr>\n",
       "      <th>min</th>\n",
       "      <td>-48.000000</td>\n",
       "      <td>-80.000000</td>\n",
       "      <td>-100.000000</td>\n",
       "      <td>-150.000000</td>\n",
       "    </tr>\n",
       "    <tr>\n",
       "      <th>25%</th>\n",
       "      <td>-12.000000</td>\n",
       "      <td>-13.000000</td>\n",
       "      <td>-63.000000</td>\n",
       "      <td>-44.000000</td>\n",
       "    </tr>\n",
       "    <tr>\n",
       "      <th>50%</th>\n",
       "      <td>-6.000000</td>\n",
       "      <td>-5.000000</td>\n",
       "      <td>-26.000000</td>\n",
       "      <td>5.000000</td>\n",
       "    </tr>\n",
       "    <tr>\n",
       "      <th>75%</th>\n",
       "      <td>2.000000</td>\n",
       "      <td>2.000000</td>\n",
       "      <td>48.000000</td>\n",
       "      <td>48.000000</td>\n",
       "    </tr>\n",
       "    <tr>\n",
       "      <th>max</th>\n",
       "      <td>42.000000</td>\n",
       "      <td>38.000000</td>\n",
       "      <td>344.000000</td>\n",
       "      <td>344.000000</td>\n",
       "    </tr>\n",
       "  </tbody>\n",
       "</table>\n",
       "</div>"
      ],
      "text/plain": [
       "        Single_Black  Gamblers_Fallacy_Black      Single_00          00_gf\n",
       "count  100000.000000           100000.000000  100000.000000  100000.000000\n",
       "mean       -5.275100               -5.952510      -2.963800      -3.057090\n",
       "std        10.008486               11.966168      59.268121      70.224244\n",
       "min       -48.000000              -80.000000    -100.000000    -150.000000\n",
       "25%       -12.000000              -13.000000     -63.000000     -44.000000\n",
       "50%        -6.000000               -5.000000     -26.000000       5.000000\n",
       "75%         2.000000                2.000000      48.000000      48.000000\n",
       "max        42.000000               38.000000     344.000000     344.000000"
      ]
     },
     "execution_count": 61,
     "metadata": {},
     "output_type": "execute_result"
    }
   ],
   "source": [
    "results_df.describe()"
   ]
  },
  {
   "cell_type": "code",
   "execution_count": 62,
   "metadata": {},
   "outputs": [],
   "source": [
    "x_00, y_00 = ecdf(results_df['Single_00'])\n",
    "x_00_gf, y_00_gf = ecdf(results_df['00_gf'])"
   ]
  },
  {
   "cell_type": "code",
   "execution_count": 63,
   "metadata": {},
   "outputs": [
    {
     "data": {
      "text/plain": [
       "(array([2.5940e+04, 2.5323e+04, 2.1826e+04, 1.4573e+04, 7.4150e+03,\n",
       "        4.4290e+03, 3.6500e+02, 8.9000e+01, 3.0000e+01, 1.0000e+01]),\n",
       " array([-100. ,  -55.6,  -11.2,   33.2,   77.6,  122. ,  166.4,  210.8,\n",
       "         255.2,  299.6,  344. ]),\n",
       " <a list of 10 Patch objects>)"
      ]
     },
     "execution_count": 63,
     "metadata": {},
     "output_type": "execute_result"
    },
    {
     "data": {
      "image/png": "[encoded data removed]",
      "text/plain": [
       "<Figure size 432x288 with 1 Axes>"
      ]
     },
     "metadata": {
      "needs_background": "light"
     },
     "output_type": "display_data"
    }
   ],
   "source": [
    "plt.hist(results_df['Single_00'])"
   ]
  },
  {
   "cell_type": "code",
   "execution_count": 64,
   "metadata": {},
   "outputs": [
    {
     "data": {
      "text/plain": [
       "(array([9.1420e+03, 1.3361e+04, 2.4050e+04, 2.7345e+04, 2.0266e+04,\n",
       "        3.9140e+03, 1.4280e+03, 4.6800e+02, 2.2000e+01, 4.0000e+00]),\n",
       " array([-150. , -100.6,  -51.2,   -1.8,   47.6,   97. ,  146.4,  195.8,\n",
       "         245.2,  294.6,  344. ]),\n",
       " <a list of 10 Patch objects>)"
      ]
     },
     "execution_count": 64,
     "metadata": {},
     "output_type": "execute_result"
    },
    {
     "data": {
      "image/png": "[encoded data removed]",
      "text/plain": [
       "<Figure size 432x288 with 1 Axes>"
      ]
     },
     "metadata": {
      "needs_background": "light"
     },
     "output_type": "display_data"
    }
   ],
   "source": [
    "plt.hist(results_df['00_gf'])"
   ]
  },
  {
   "cell_type": "code",
   "execution_count": 66,
   "metadata": {},
   "outputs": [
    {
     "data": {
      "text/plain": [
       "Text(0.5, 1.0, '100 unit bets on 00\\n100,000 trials')"
      ]
     },
     "execution_count": 66,
     "metadata": {},
     "output_type": "execute_result"
    },
    {
     "data": {
      "image/png": "[encoded data removed]",
      "text/plain": [
       "<Figure size 432x288 with 1 Axes>"
      ]
     },
     "metadata": {
      "needs_background": "light"
     },
     "output_type": "display_data"
    }
   ],
   "source": [
    "plt.plot(x_00, y_00, marker='.', linestyle='none')\n",
    "plt.xlabel('Net winnings')\n",
    "plt.ylabel('ECDF')\n",
    "plt.title('100 unit bets on 00\\n100,000 trials')"
   ]
  },
  {
   "cell_type": "code",
   "execution_count": 67,
   "metadata": {},
   "outputs": [
    {
     "data": {
      "text/plain": [
       "Text(0.5, 1.0, '100 bets on 00, bet doubled if 0/50 previous spins were 00\\n100,000 trials')"
      ]
     },
     "execution_count": 67,
     "metadata": {},
     "output_type": "execute_result"
    },
    {
     "data": {
      "image/png": "[encoded data removed]",
      "text/plain": [
       "<Figure size 432x288 with 1 Axes>"
      ]
     },
     "metadata": {
      "needs_background": "light"
     },
     "output_type": "display_data"
    }
   ],
   "source": [
    "plt.plot(x_00_gf, y_00_gf, marker='.', linestyle='none')\n",
    "plt.xlabel('Net winnings')\n",
    "plt.ylabel('ECDF')\n",
    "plt.title('100 bets on 00, bet doubled if 0/50 previous spins were 00\\n100,000 trials')"
   ]
  },
  {
   "cell_type": "code",
   "execution_count": 68,
   "metadata": {},
   "outputs": [
    {
     "data": {
      "text/plain": [
       "Text(0.5, 1.0, 'Comparison - Number Betting')"
      ]
     },
     "execution_count": 68,
     "metadata": {},
     "output_type": "execute_result"
    },
    {
     "data": {
      "image/png": "[encoded data removed]",
      "text/plain": [
       "<Figure size 432x288 with 1 Axes>"
      ]
     },
     "metadata": {
      "needs_background": "light"
     },
     "output_type": "display_data"
    }
   ],
   "source": [
    "# comparison\n",
    "plt.plot(x_00, y_00, x_00_gf, y_00_gf)\n",
    "plt.xlabel('Net winnings')\n",
    "plt.ylabel('ECDF')\n",
    "plt.legend([\"Single Bet\", \"Gambler's Fallacy\"])\n",
    "plt.title('Comparison - Number Betting')"
   ]
  }
 ],
 "metadata": {
  "kernelspec": {
   "display_name": "Python 3",
   "language": "python",
   "name": "python3"
  },
  "language_info": {
   "codemirror_mode": {
    "name": "ipython",
    "version": 3
   },
   "file_extension": ".py",
   "mimetype": "text/x-python",
   "name": "python",
   "nbconvert_exporter": "python",
   "pygments_lexer": "ipython3",
   "version": "3.7.6"
  }
 },
 "nbformat": 4,
 "nbformat_minor": 4
}
