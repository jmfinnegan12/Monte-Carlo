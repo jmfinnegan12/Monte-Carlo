{
 "cells": [
  {
   "cell_type": "markdown",
   "metadata": {},
   "source": [
    "# Monte Carlo Simulation - Blackjack\n",
    "### Jim Finnegan\n",
    "\n",
    "### Sources:\n",
    "1. https://medium.com/@anthonytapias/build-a-deck-of-cards-with-oo-python-c41913a744d3\n",
    "2. https://numpy.org/doc/stable/reference/random/generated/numpy.random.shuffle.html"
   ]
  },
  {
   "cell_type": "markdown",
   "metadata": {},
   "source": [
    "__________________________________________________________"
   ]
  },
  {
   "cell_type": "markdown",
   "metadata": {},
   "source": [
    "## Set up cards and decks"
   ]
  },
  {
   "cell_type": "code",
   "execution_count": 27,
   "metadata": {},
   "outputs": [],
   "source": [
    "import numpy as np"
   ]
  },
  {
   "cell_type": "code",
   "execution_count": 14,
   "metadata": {},
   "outputs": [],
   "source": [
    "# define cards\n",
    "class Card:\n",
    "    \n",
    "    # class attibutes\n",
    "    NUM_VALS = {'2': 2, '3': 3, '4': 4, '5': 5, '6': 6, '7': 7, '8': 8, '9': 9, '10': 10, \n",
    "          'J': 10, 'Q': 10, 'K': 10, 'A': [1, 11]}\n",
    "    SUITS_DICT = {'C': 'Clubs', 'D': 'Diamonds', 'H': 'Hearts', 'S': 'Spades'}\n",
    "    \n",
    "    # initialize a card\n",
    "    def __init__(self, value, suit):\n",
    "        self.value = value\n",
    "        self.num_val = Card.NUM_VALS[self.value]\n",
    "        self.suit = suit\n",
    "    \n",
    "    # str and repr\n",
    "    def __str__(self):\n",
    "        card_str = '{value} of {suit}'.format(value = self.value, suit = Card.SUITS_DICT[self.suit])\n",
    "        return card_str\n",
    "    def __repr__(self):\n",
    "        return self.value + self.suit    \n",
    "\n",
    "    # card comparisons - return True for same suit and value\n",
    "    def __eq__(self, other):\n",
    "        return (self.value == other.value) and (self.suit == other.suit)\n",
    "\n",
    "        \n",
    "        \n",
    "    # METHODS    \n",
    "    def show(self):\n",
    "        card_str = '{value} of {suit}'.format(value = self.value, suit = Card.SUITS_DICT[self.suit])\n",
    "        print(card_str)\n",
    "    \n",
    "    def is_face_card(self):\n",
    "        if self.value.isin(['J', 'Q', 'K']):\n",
    "            return True\n",
    "        else:\n",
    "            return False\n",
    "        \n",
    "    def is_ace(self):\n",
    "        if self.value == 'A':\n",
    "            return True\n",
    "        else:\n",
    "            return False"
   ]
  },
  {
   "cell_type": "code",
   "execution_count": 65,
   "metadata": {},
   "outputs": [],
   "source": [
    "# define a deck\n",
    "class Deck:\n",
    "    # class level lists: definine full deck\n",
    "    SUITS = ['C', 'D', 'H', 'S']\n",
    "    VALUES = ['2', '3', '4', '5', '6', '7', '8', '9', '10', 'J', 'Q', 'K', 'A']\n",
    "    \n",
    "    # initialize and create deck\n",
    "    def __init__(self):\n",
    "        self.cards = []\n",
    "        self.create()\n",
    "     \n",
    "    # create deck of each card\n",
    "    def create(self):\n",
    "        for s in Deck.SUITS:\n",
    "            for v in Deck.VALUES:\n",
    "                self.cards.append(Card(v, s))\n",
    "\n",
    "    # METHODS\n",
    "    def show(self):\n",
    "        for card in self.cards:\n",
    "            card.show()\n",
    "                \n",
    "    def shuffle(self):\n",
    "        np.random.shuffle(self.cards)"
   ]
  },
  {
   "cell_type": "code",
   "execution_count": 66,
   "metadata": {},
   "outputs": [],
   "source": [
    "class Shoe(Deck):\n",
    "    \n",
    "    def __init__(self, num_decks):\n",
    "        self.num_decks = num_decks\n",
    "        self.cards = []\n",
    "        self.create()\n",
    "        \n",
    "    def create(self):\n",
    "        for n in range(self.num_decks):\n",
    "            for s in Deck.SUITS:\n",
    "                for v in Deck.VALUES:\n",
    "                    self.cards.append(Card(v, s))"
   ]
  },
  {
   "cell_type": "markdown",
   "metadata": {},
   "source": [
    "___________________________________________________"
   ]
  },
  {
   "cell_type": "markdown",
   "metadata": {},
   "source": [
    "## Set up blackjack hand"
   ]
  },
  {
   "cell_type": "code",
   "execution_count": 150,
   "metadata": {},
   "outputs": [],
   "source": [
    "class BlackJackHand:\n",
    "    \n",
    "    def __init__(self, card1, card2):\n",
    "        self.card1 = card1\n",
    "        self.card2 = card2\n",
    "        self.cards = [card1, card2]\n",
    "    \n",
    "    def get_val(self):\n",
    "        aces = [self.card1.is_ace(), self.card2.is_ace()]\n",
    "       \n",
    "        # no aces\n",
    "        if aces == [False, False]:\n",
    "            val = 0\n",
    "            for card in self.cards:\n",
    "                val += card.num_val\n",
    "            return val\n",
    "        \n",
    "        # one ace\n",
    "        elif aces == [False, True]:\n",
    "            if self.card1.num_val > 6:\n",
    "                return 11 + self.card1.num_val\n",
    "            else:\n",
    "                val = self.card1.num_val + 11\n",
    "                return {'soft': val}\n",
    "       \n",
    "        elif aces == [True, False]:\n",
    "            if self.card2.num_val > 6:\n",
    "                return 11 + self.card2.num_val\n",
    "            else:\n",
    "                val = self.card2.num_val + 11\n",
    "                return {'soft': val}\n",
    "        \n",
    "        # pair of aces\n",
    "        else:\n",
    "            return {'pair', 'A'}\n",
    "            \n",
    "    \n",
    "    def hit(self, new_card):\n",
    "        self.cards.append(new_card)\n",
    "    \n",
    "    def is_blackjack(self):\n",
    "        return self.get_val() == 21\n",
    "    \n",
    "    def is_bust(self):\n",
    "        return self.get_val() > 21\n",
    "    \n",
    "    def is_pair(self):\n",
    "        return self.cards[0].value == self.cards[1].value    "
   ]
  },
  {
   "cell_type": "code",
   "execution_count": 146,
   "metadata": {},
   "outputs": [],
   "source": [
    "c1 = Card('A', 'S')\n",
    "c2 = Card('J', 'C')\n",
    "c3 = Card('9', 'S')\n",
    "c4 = Card('3', 'D')"
   ]
  },
  {
   "cell_type": "code",
   "execution_count": 147,
   "metadata": {},
   "outputs": [],
   "source": [
    "hand = BlackJackHand(c1, c2)"
   ]
  },
  {
   "cell_type": "code",
   "execution_count": 135,
   "metadata": {},
   "outputs": [],
   "source": [
    "hand.hit(c4)"
   ]
  },
  {
   "cell_type": "code",
   "execution_count": 148,
   "metadata": {},
   "outputs": [
    {
     "data": {
      "text/plain": [
       "21"
      ]
     },
     "execution_count": 148,
     "metadata": {},
     "output_type": "execute_result"
    }
   ],
   "source": [
    "hand.get_val()"
   ]
  },
  {
   "cell_type": "code",
   "execution_count": 149,
   "metadata": {},
   "outputs": [
    {
     "name": "stdout",
     "output_type": "stream",
     "text": [
      "True\n",
      "False\n"
     ]
    }
   ],
   "source": [
    "print(hand.is_blackjack())\n",
    "print(hand.is_bust())"
   ]
  }
 ],
 "metadata": {
  "kernelspec": {
   "display_name": "Python 3",
   "language": "python",
   "name": "python3"
  },
  "language_info": {
   "codemirror_mode": {
    "name": "ipython",
    "version": 3
   },
   "file_extension": ".py",
   "mimetype": "text/x-python",
   "name": "python",
   "nbconvert_exporter": "python",
   "pygments_lexer": "ipython3",
   "version": "3.7.6"
  }
 },
 "nbformat": 4,
 "nbformat_minor": 4
}
